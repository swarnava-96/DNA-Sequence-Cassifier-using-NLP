{
  "nbformat": 4,
  "nbformat_minor": 0,
  "metadata": {
    "colab": {
      "name": "DNA Sequence Classifier on Chimpanzee Genes",
      "provenance": [],
      "mount_file_id": "1ODoYIjiDjRHdPwyn18mKNFVk1LwsmWo8",
      "authorship_tag": "ABX9TyOKFhgXNkhGKpUCvUJvs8lK",
      "include_colab_link": true
    },
    "kernelspec": {
      "name": "python3",
      "display_name": "Python 3"
    },
    "language_info": {
      "name": "python"
    }
  },
  "cells": [
    {
      "cell_type": "markdown",
      "metadata": {
        "id": "view-in-github",
        "colab_type": "text"
      },
      "source": [
        "<a href=\"https://colab.research.google.com/github/swarnava-96/DNA-Sequence-Cassifier-using-NLP/blob/main/DNA_Sequence_Classifier_on_Chimpanzee_Genes.ipynb\" target=\"_parent\"><img src=\"https://colab.research.google.com/assets/colab-badge.svg\" alt=\"Open In Colab\"/></a>"
      ]
    },
    {
      "cell_type": "markdown",
      "metadata": {
        "id": "1lb867_jVONO"
      },
      "source": [
        "# **DNA Sequence Classifier using NLP**\n",
        "In this project, we will apply a Machine Learning Classification model on chimpanzee gene sequences dataset that can predict genes function based on DNA sequence (coding sequence) alone.\n",
        "\n",
        "### Importing the necessary libraries"
      ]
    },
    {
      "cell_type": "code",
      "metadata": {
        "colab": {
          "base_uri": "https://localhost:8080/"
        },
        "id": "QC1DWIucVOl9",
        "outputId": "c95163da-e5bc-4bf7-d8d4-7059d9dd7b03"
      },
      "source": [
        "cd \"/content/drive/MyDrive/Datasets\""
      ],
      "execution_count": 1,
      "outputs": [
        {
          "output_type": "stream",
          "name": "stdout",
          "text": [
            "/content/drive/MyDrive/Datasets\n"
          ]
        }
      ]
    },
    {
      "cell_type": "code",
      "metadata": {
        "id": "flKezDRFVPuB"
      },
      "source": [
        "import numpy as np\n",
        "import pandas as pd\n",
        "import matplotlib.pyplot as plt\n",
        "%matplotlib inline"
      ],
      "execution_count": 2,
      "outputs": []
    },
    {
      "cell_type": "markdown",
      "metadata": {
        "id": "BXuvc8mlYd8P"
      },
      "source": [
        "### Loading the Data"
      ]
    },
    {
      "cell_type": "code",
      "metadata": {
        "colab": {
          "base_uri": "https://localhost:8080/",
          "height": 202
        },
        "id": "xU7tEjKJWW0R",
        "outputId": "7718e35b-634e-4061-886e-bb33aa298f5f"
      },
      "source": [
        "chimp_data = pd.read_table(\"chimp_data.txt\")\n",
        "chimp_data.head()"
      ],
      "execution_count": 27,
      "outputs": [
        {
          "output_type": "execute_result",
          "data": {
            "text/html": [
              "<div>\n",
              "<style scoped>\n",
              "    .dataframe tbody tr th:only-of-type {\n",
              "        vertical-align: middle;\n",
              "    }\n",
              "\n",
              "    .dataframe tbody tr th {\n",
              "        vertical-align: top;\n",
              "    }\n",
              "\n",
              "    .dataframe thead th {\n",
              "        text-align: right;\n",
              "    }\n",
              "</style>\n",
              "<table border=\"1\" class=\"dataframe\">\n",
              "  <thead>\n",
              "    <tr style=\"text-align: right;\">\n",
              "      <th></th>\n",
              "      <th>sequence</th>\n",
              "      <th>class</th>\n",
              "    </tr>\n",
              "  </thead>\n",
              "  <tbody>\n",
              "    <tr>\n",
              "      <th>0</th>\n",
              "      <td>ATGCCCCAACTAAATACCGCCGTATGACCCACCATAATTACCCCCA...</td>\n",
              "      <td>4</td>\n",
              "    </tr>\n",
              "    <tr>\n",
              "      <th>1</th>\n",
              "      <td>ATGAACGAAAATCTATTCGCTTCATTCGCTGCCCCCACAATCCTAG...</td>\n",
              "      <td>4</td>\n",
              "    </tr>\n",
              "    <tr>\n",
              "      <th>2</th>\n",
              "      <td>ATGGCCTCGCGCTGGTGGCGGTGGCGACGCGGCTGCTCCTGGAGGC...</td>\n",
              "      <td>4</td>\n",
              "    </tr>\n",
              "    <tr>\n",
              "      <th>3</th>\n",
              "      <td>ATGGCCTCGCGCTGGTGGCGGTGGCGACGCGGCTGCTCCTGGAGGC...</td>\n",
              "      <td>4</td>\n",
              "    </tr>\n",
              "    <tr>\n",
              "      <th>4</th>\n",
              "      <td>ATGGGCAGCGCCAGCCCGGGTCTGAGCAGCGTGTCCCCCAGCCACC...</td>\n",
              "      <td>6</td>\n",
              "    </tr>\n",
              "  </tbody>\n",
              "</table>\n",
              "</div>"
            ],
            "text/plain": [
              "                                            sequence  class\n",
              "0  ATGCCCCAACTAAATACCGCCGTATGACCCACCATAATTACCCCCA...      4\n",
              "1  ATGAACGAAAATCTATTCGCTTCATTCGCTGCCCCCACAATCCTAG...      4\n",
              "2  ATGGCCTCGCGCTGGTGGCGGTGGCGACGCGGCTGCTCCTGGAGGC...      4\n",
              "3  ATGGCCTCGCGCTGGTGGCGGTGGCGACGCGGCTGCTCCTGGAGGC...      4\n",
              "4  ATGGGCAGCGCCAGCCCGGGTCTGAGCAGCGTGTCCCCCAGCCACC...      6"
            ]
          },
          "metadata": {},
          "execution_count": 27
        }
      ]
    },
    {
      "cell_type": "code",
      "metadata": {
        "colab": {
          "base_uri": "https://localhost:8080/"
        },
        "id": "sc7PsQs8Ysmu",
        "outputId": "df37082b-3c30-4eb4-dc3c-27ab113676cb"
      },
      "source": [
        "# Lets see the shape of the data\n",
        "\n",
        "chimp_data.shape"
      ],
      "execution_count": 29,
      "outputs": [
        {
          "output_type": "execute_result",
          "data": {
            "text/plain": [
              "(1682, 2)"
            ]
          },
          "metadata": {},
          "execution_count": 29
        }
      ]
    },
    {
      "cell_type": "markdown",
      "metadata": {
        "id": "xQHxunvHYBMY"
      },
      "source": [
        "We have some data for chimpanzee DNA sequence coding regions and a class label. \n",
        "Let's define a function to collect all possible overlapping k-mers of a specified length from any sequence string. We will basically apply the k-mers to the complete sequences."
      ]
    },
    {
      "cell_type": "code",
      "metadata": {
        "id": "FWEg-DXJY1zJ"
      },
      "source": [
        "# Lets create a function to convert sequence strings into k-mer words, default size = 6 (Hexamer words)\n",
        "\n",
        "def getKmers(sequence, size = 6):\n",
        "  return [sequence[x : x + size].lower() for x in range(len(sequence) - size + 1)]"
      ],
      "execution_count": 30,
      "outputs": []
    },
    {
      "cell_type": "markdown",
      "metadata": {
        "id": "gTfMgC8EaRyp"
      },
      "source": [
        "Now we can convert our training data sequences into short overlapping k-mers of legth 6."
      ]
    },
    {
      "cell_type": "code",
      "metadata": {
        "id": "1tQCvZkzaLG9"
      },
      "source": [
        "chimp_data[\"words\"] = chimp_data.apply(lambda x : getKmers(x[\"sequence\"]), axis = 1)\n",
        "chimp_data  = chimp_data.drop(\"sequence\", axis = 1)"
      ],
      "execution_count": 31,
      "outputs": []
    },
    {
      "cell_type": "markdown",
      "metadata": {
        "id": "qP__2iu4bFSs"
      },
      "source": [
        "Now, our coding sequence data is changed to lowercase, split up into all possible k-mer words of length 6 and ready for the next step. Let's take a look."
      ]
    },
    {
      "cell_type": "code",
      "metadata": {
        "colab": {
          "base_uri": "https://localhost:8080/",
          "height": 202
        },
        "id": "wlGPtA1ba0N6",
        "outputId": "88df1b93-3a2b-474d-d12e-e0a55454b752"
      },
      "source": [
        "chimp_data.head()"
      ],
      "execution_count": 32,
      "outputs": [
        {
          "output_type": "execute_result",
          "data": {
            "text/html": [
              "<div>\n",
              "<style scoped>\n",
              "    .dataframe tbody tr th:only-of-type {\n",
              "        vertical-align: middle;\n",
              "    }\n",
              "\n",
              "    .dataframe tbody tr th {\n",
              "        vertical-align: top;\n",
              "    }\n",
              "\n",
              "    .dataframe thead th {\n",
              "        text-align: right;\n",
              "    }\n",
              "</style>\n",
              "<table border=\"1\" class=\"dataframe\">\n",
              "  <thead>\n",
              "    <tr style=\"text-align: right;\">\n",
              "      <th></th>\n",
              "      <th>class</th>\n",
              "      <th>words</th>\n",
              "    </tr>\n",
              "  </thead>\n",
              "  <tbody>\n",
              "    <tr>\n",
              "      <th>0</th>\n",
              "      <td>4</td>\n",
              "      <td>[atgccc, tgcccc, gcccca, ccccaa, cccaac, ccaac...</td>\n",
              "    </tr>\n",
              "    <tr>\n",
              "      <th>1</th>\n",
              "      <td>4</td>\n",
              "      <td>[atgaac, tgaacg, gaacga, aacgaa, acgaaa, cgaaa...</td>\n",
              "    </tr>\n",
              "    <tr>\n",
              "      <th>2</th>\n",
              "      <td>4</td>\n",
              "      <td>[atggcc, tggcct, ggcctc, gcctcg, cctcgc, ctcgc...</td>\n",
              "    </tr>\n",
              "    <tr>\n",
              "      <th>3</th>\n",
              "      <td>4</td>\n",
              "      <td>[atggcc, tggcct, ggcctc, gcctcg, cctcgc, ctcgc...</td>\n",
              "    </tr>\n",
              "    <tr>\n",
              "      <th>4</th>\n",
              "      <td>6</td>\n",
              "      <td>[atgggc, tgggca, gggcag, ggcagc, gcagcg, cagcg...</td>\n",
              "    </tr>\n",
              "  </tbody>\n",
              "</table>\n",
              "</div>"
            ],
            "text/plain": [
              "   class                                              words\n",
              "0      4  [atgccc, tgcccc, gcccca, ccccaa, cccaac, ccaac...\n",
              "1      4  [atgaac, tgaacg, gaacga, aacgaa, acgaaa, cgaaa...\n",
              "2      4  [atggcc, tggcct, ggcctc, gcctcg, cctcgc, ctcgc...\n",
              "3      4  [atggcc, tggcct, ggcctc, gcctcg, cctcgc, ctcgc...\n",
              "4      6  [atgggc, tgggca, gggcag, ggcagc, gcagcg, cagcg..."
            ]
          },
          "metadata": {},
          "execution_count": 32
        }
      ]
    },
    {
      "cell_type": "markdown",
      "metadata": {
        "id": "IqjKIWq_bRrF"
      },
      "source": [
        "Since we are going to use scikit-learn natural language processing tools to do the k-mer counting, we need to now convert the lists of k-mers for each gene into string sentences of words that the count vectorizer can use. We can also make a y variable to hold the class labels."
      ]
    },
    {
      "cell_type": "code",
      "metadata": {
        "id": "l0sk-8nTbJOZ"
      },
      "source": [
        "chimp_texts = list(chimp_data[\"words\"])\n",
        "for item in range(len(chimp_texts)):\n",
        "  chimp_texts[item] = \" \".join(chimp_texts[item])\n",
        "\n",
        "# Lets create our target feature\n",
        "y_data = chimp_data.iloc[:, 0].values"
      ],
      "execution_count": 33,
      "outputs": []
    },
    {
      "cell_type": "code",
      "metadata": {
        "colab": {
          "base_uri": "https://localhost:8080/"
        },
        "id": "h8OIXL37b-y6",
        "outputId": "88bc0486-9a62-4205-fc38-017c7c2c3506"
      },
      "source": [
        "# Lets check\n",
        "\n",
        "print(chimp_texts[2])"
      ],
      "execution_count": 34,
      "outputs": [
        {
          "output_type": "stream",
          "name": "stdout",
          "text": [
            "atggcc tggcct ggcctc gcctcg cctcgc ctcgcg tcgcgc cgcgct gcgctg cgctgg gctggt ctggtg tggtgg ggtggc gtggcg tggcgg ggcggt gcggtg cggtgg ggtggc gtggcg tggcga ggcgac gcgacg cgacgc gacgcg acgcgg cgcggc gcggct cggctg ggctgc gctgct ctgctc tgctcc gctcct ctcctg tcctgg cctgga ctggag tggagg ggaggc gaggcc aggccg ggccgg gccggc ccggcg cggcgg ggcggc gcggcg cggcgc ggcgcg gcgcgg cgcgga gcggag cggagc ggagct gagctc agctcc gctccg ctccgg tccggg ccgggc cgggcc gggccc ggcccg gcccgg cccggc ccggct cggctc ggctcc gctccc ctcccc tcccca ccccag cccagg ccaggc caggcc aggccg ggccgt gccgtg ccgtgc cgtgcg gtgcgg tgcggg gcggga cgggac gggacc ggaccg gaccgt accgtc ccgtcg cgtcgg gtcggg tcgggg cggggc ggggcc gggccg ggccga gccgag ccgagc cgagcg gagcgc agcgcc gcgccg cgccgc gccgct ccgctg cgctgc gctgcc ctgccg tgccga gccgac ccgacg cgacgt gacgtc acgtcc cgtccg gtccgc tccgcg ccgcgc cgcgcg gcgcgc cgcgca gcgcag cgcagg gcaggt caggtt aggttc ggttca gttcat ttcata tcatag catagg ataggc taggcg aggcgg ggcgga gcggaa cggaag ggaagg gaaggg aaggga agggac gggact ggactt gacttg acttga cttgac ttgact tgactt gacttg acttgt cttgtc ttgtct tgtctc gtctca tctcag ctcaga tcagat cagata agatac gatacc ataccc taccct acccta ccctat cctata ctatat tatatt atatta tattaa attaat ttaatc taatct aatctt atcttg tcttgt cttgtg ttgtga tgtgaa gtgaag tgaagc gaagca aagcat agcatt gcattt cattta atttaa tttaac ttaaca taacat aacatc acatct catctg atctgc tctgcc ctgcct tgcctg gcctgt cctgtc ctgtcc tgtcca gtccaa tccaaa ccaaat caaatg aaatgt aatgta atgtat tgtatg gtatgt tatgtc atgtcg tgtcgt gtcgta tcgtat cgtata gtatat tatatc atatca tatcac atcacg tcacgg cacggt acggtt cggttt ggtttc gtttca tttcat ttcatc tcatca catcac atcaca tcacac cacaca acacaa cacaac acaacc caaccc aacccc acccca ccccag cccaga ccagac cagaca agacag gacagt acagta cagtaa agtaaa gtaaaa taaaac aaaaca aaacac aacaca acacac cacaca acacag cacagt acagtg cagtgg agtggt gtggtg tggtga ggtgaa gtgaaa tgaaaa gaaaaa aaaaat aaaata aaatac aataca atacac tacacc acaccg caccga accgat ccgatc cgatcc gatcct atcctt tccttt cctttc ctttca tttcaa ttcaaa tcaaac caaact aaactc aactcg actcgg ctcggt tcggtt cggttg ggttgg gttgga ttggag tggaga ggagag gagaga agagac gagact agactt gacttg acttga cttgaa ttgaaa tgaaag gaaagg aaaggt aaggtc aggtct ggtctg gtctgt tctgta ctgtat tgtatg gtatga tatgag atgagg tgagga gaggac aggaca ggacat gacatt acatta cattag attaga ttagaa tagaaa agaaag gaaagg aaagga aaggaa aggaac ggaact gaactg aactgc actgct ctgctt tgctta gcttat cttata ttatat tatatc atatca tatcaa atcaac tcaaca caacat aacatc acatca catcag atcaga tcagaa cagaac agaact gaactt aactta acttaa cttaag ttaagg taagga aaggaa aggaaa ggaaat gaaatg aaatgt aatgtc atgtct tgtctg gtctga tctgag ctgagt tgagta gagtac agtact gtacta tactac actact ctactt tacttt actttg ctttga tttgat ttgatg tgatgg gatggg atggga tgggaa gggaaa ggaaag gaaagg aaaggg aaggga agggaa gggaaa ggaaag gaaagc aaagcc aagcct agcctt gccttt cctttc ctttcg tttcga ttcgac tcgacc cgacca gaccaa accaat ccaatt caatta aattat attatt ttattg tattgt attgtg ttgtgg tgtggc gtggcg tggcgc ggcgct gcgcta cgctaa gctaat ctaatg taatgg aatggc atggcc tggccc ggcccg gcccga cccgag ccgagc cgagca gagcat agcatg gcatgc catgca atgcaa tgcaat gcaata caatat aatatt atattc tattca attcat ttcatc tcatca catcat atcata tcataa cataac ataaca taacaa aacaac acaact caactc aactcc actccc ctcccg tcccga cccgac ccgaca cgacat gacatg acatgt catgtg atgtgc tgtgca gtgcaa tgcaag gcaagc caagcc aagcca agccag gccagc ccagcc cagcca agccag gccagc ccagcg cagcgc agcgca gcgcac cgcacc gcacca caccat accata ccatag catagc atagcc tagcct agcctt gcctta ccttaa cttaat ttaatt taattg aattgc attgca ttgcag tgcaga gcagaa cagaaa agaaat gaaatg aaatga aatgat atgatc tgatcc gatcca atccac tccaca ccacac cacact acactg cactgc actgct ctgcta tgctag gctagt ctagtc tagtct agtctg gtctgg tctggt ctggtt tggttc ggttca gttcac ttcacg tcacga cacgat acgatg cgatga gatgac atgacg tgacgt gacgtt acgtta cgttat gttatt ttattg tattga attgac ttgacg tgacga gacgat acgatg cgatgc gatgca atgcaa tgcaag gcaagt caagtt aagttc agttct gttctc ttctcg tctcga ctcgaa tcgaag cgaaga gaagag aagagg agagga gaggaa aggaaa ggaaaa gaaaac aaaaca aaacac aacaca acacac cacaca acacag cacagt acagtt cagtta agttaa gttaat ttaata taataa aataag ataaga taagat aagatc agatct gatctg atctgg tctggg ctgggg tggggt ggggtg gggtga ggtgaa gtgaaa tgaaaa gaaaag aaaaga aaagaa aagaag agaagg gaaggc aaggct aggctg ggctgt gctgtt ctgttc tgttct gttctt ttcttg tcttgc cttgct ttgctg tgctgg gctgga ctggag tggaga ggagat gagatt agattt gattta atttaa tttaat ttaatt taattc aattct attctt ttcttt tctttc ctttct tttctg ttctgc tctgca ctgcag tgcagc gcagca cagcat agcatc gcatct catcta atctat tctata ctatag tatagc atagct tagctc agctct gctctg ctctgg tctggc ctggca tggcac ggcacg gcacga cacgaa acgaat cgaatt gaattg aattgg attgga ttggaa tggaaa ggaaat gaaata aaatac aataca atacaa tacaac acaact caactg aactgt actgtt ctgtta tgttat gttata ttatat tatatc atatct tatcta atctat tctatt ctattt tatttt atttta ttttaa tttaac ttaacc taaccc aaccca acccaa cccaag ccaagt caagtt aagtta agttat gttatt ttattg tattga attgaa ttgaag tgaaga gaagat aagatt agattt gatttg atttgg tttggt ttggtg tggtgc ggtgcg gtgcgt tgcgtg gcgtgg cgtggt gtggtg tggtga ggtgaa gtgaat tgaatt gaattt aatttc atttct tttctt ttcttc tcttca cttcag ttcagc tcagct cagctc agctcg gctcgg ctcggg tcgggt cgggtc gggtca ggtcaa gtcaaa tcaaaa caaaag aaaaga aaagaa aagaaa agaaaa gaaaat aaaatg aaatga aatgag atgaga tgagaa gagaat agaatg gaatga aatgaa atgaaa tgaaag gaaaga aaagat aagatt agattt gatttg atttgc tttgca ttgcac tgcaca gcacac cacact acacta cactac actacc ctacct tacctt accttg ccttga cttgag ttgaga tgagaa gagaag agaaga gaagac aagacg agacgt gacgtt acgttc cgttca gttcaa ttcaag tcaaga caagaa aagaag agaaga gaagac aagacc agaccg gaccgc accgcc ccgcca cgccag gccagc ccagcc cagcct agcctg gcctga cctgat ctgata tgatag gatagc atagcc tagcca agccaa gccaac ccaaca caacag aacagt acagtt cagttg agttgt gttgta ttgtaa tgtaaa gtaaag taaagc aaagca aagcag agcagt gcagtc cagtct agtctc gtctct tctctg ctctgt tctgtt ctgttc tgttct gttcta ttctag tctagg ctagga taggat aggatg ggatgt gatgtc atgtcc tgtccc gtcccg tcccga cccgac ccgacc cgaccc gaccca acccag cccagt ccagtg cagtgg agtggt gtggtg tggtgc ggtgca gtgcat tgcatg gcatga catgag atgaga tgagat gagatc agatcg gatcgc atcgcc tcgcct cgccta gcctat cctatc ctatca tatcag atcagt tcagta cagtac agtacg gtacgg tacgga acggaa cggaaa ggaaaa gaaaaa aaaaaa aaaaat aaaatg aaatgt aatgta atgtag tgtagg gtagga taggaa aggaat ggaata gaatag aatagc atagct tagctt agcttt gctttt cttttc ttttca tttcag ttcagc tcagct cagctt agctta gcttat cttata ttatag tataga atagat tagatg agatga gatgat atgatg tgatgt gatgta atgtat tgtatt gtattg tattgg attgga ttggac tggact ggactt gacttc acttca cttcac ttcacc tcacct cacctc acctca cctcat ctcatg tcatgt catgtt atgttc tgttct gttctg ttctga tctgac ctgacc tgacca gaccag accaga ccagat cagatg agatgg gatggg atgggc tgggca gggcaa ggcaaa gcaaac caaacc aaacca aaccaa accaac ccaaca caacat aacatc acatca catcag atcagc tcagct cagctg agctga gctgat ctgatc tgatct gatctg atctga tctgaa ctgaag tgaagc gaagct aagctc agctcg gctcgg ctcggg tcgggt cgggtt gggtta ggttag gttagc ttagcc tagcca agccac gccact ccactg cactgg actggt ctggtc tggtcc ggtcct gtcctg tcctgt cctgtc ctgtcc tgtcct gtcctg tcctgt cctgtt ctgttt tgtttg gtttgc tttgcc ttgcct tgcctg gcctgt cctgtc ctgtca tgtcag gtcagc tcagca cagcag agcagt gcagtt cagttc agttcc gttccc ttccca tcccag cccaga ccagaa cagaaa agaaat gaaatg aaatga aatgaa atgaat tgaatg gaatgc aatgct atgcta tgctat gctatg ctatga tatgat atgatc tgatca gatcat atcatg tcatgc catgcg atgcga tgcgac gcgacg cgacgg gacggt acggtt cggttc ggttca gttcag ttcagt tcagtt cagttt agtttg gtttgc tttgcc ttgccg tgccgg gccggg ccggga cgggag gggaga ggagat gagatg agatgt gatgta atgtag tgtaga gtagac tagaca agacag gacaga acagag cagagc agagct gagctc agctcg gctcga ctcgac tcgaca cgacag gacagt acagta cagtat agtatg gtatgt tatgta atgtat tgtatt gtatta tattac attaca ttacag tacaga acagag cagagt agagtg gagtga agtgat gtgatg tgatgg gatggt atggtg tggtgt ggtgtg gtgtgc tgtgca gtgcaa tgcaac gcaaca caacaa aacaaa acaaac caaaca aaacaa aacaac acaacc caacct aaccta acctac cctacc ctacct tacctc acctcg cctcgc ctcgcc tcgccc cgccca gcccag cccagc ccagca cagcag agcagt gcagta cagtac agtact gtactg tactgc actgcc ctgcca tgccat gccatg ccatga catgaa atgaag tgaagc gaagca aagcaa agcaat gcaata caataa aataag ataaga taagag aagaga agagag gagaga agagat gagatc agatca gatcag atcagt tcagta cagtaa agtaaa gtaaac taaact aaactt aacttc acttcg cttcga ttcgac tcgacc cgacca gaccat accatc ccatcc catccc atcccc tcccca ccccag cccaga ccagaa cagaaa agaaag gaaaga aaagag aagaga agagat gagatg agatgc gatgcc atgccc tgccct gccctc ccctca cctcat ctcatt tcattc cattca attcag ttcagc tcagct cagctt agcttt gctttc ctttca tttcag ttcaga tcagaa cagaaa agaaat gaaatt aaattg aattgt attgta ttgtac tgtact gtactc tactca actcac ctcaca tcacaa cacaag acaaga caagag aagaga agagat gagata agataa gataaa ataaat taaatg aaatga\n"
          ]
        }
      ]
    },
    {
      "cell_type": "code",
      "metadata": {
        "colab": {
          "base_uri": "https://localhost:8080/"
        },
        "id": "Ga6w0-EOcCRv",
        "outputId": "de15c193-3b80-4945-e8ab-eb10ea7167bd"
      },
      "source": [
        "y_data"
      ],
      "execution_count": 35,
      "outputs": [
        {
          "output_type": "execute_result",
          "data": {
            "text/plain": [
              "array([4, 4, 4, ..., 6, 3, 3])"
            ]
          },
          "metadata": {},
          "execution_count": 35
        }
      ]
    },
    {
      "cell_type": "markdown",
      "metadata": {
        "id": "D60QnncscSof"
      },
      "source": [
        "Now, we will apply the BAG of WORDS using CountVectorizer. This is equivalent to k-mer counting. The n-gram size of 4 was previously determined by testing"
      ]
    },
    {
      "cell_type": "code",
      "metadata": {
        "id": "BL17sH14cME-"
      },
      "source": [
        "from sklearn.feature_extraction.text import CountVectorizer\n",
        "cv = CountVectorizer(ngram_range = (4,4))\n",
        "X = cv.fit_transform(chimp_texts)"
      ],
      "execution_count": 36,
      "outputs": []
    },
    {
      "cell_type": "code",
      "metadata": {
        "colab": {
          "base_uri": "https://localhost:8080/"
        },
        "id": "CJgT7hBddBK3",
        "outputId": "dd78bebc-900d-44e1-ac66-3e21bafffb08"
      },
      "source": [
        "# Lets see the shape of the vector X\n",
        "\n",
        "X.shape"
      ],
      "execution_count": 37,
      "outputs": [
        {
          "output_type": "execute_result",
          "data": {
            "text/plain": [
              "(1682, 229684)"
            ]
          },
          "metadata": {},
          "execution_count": 37
        }
      ]
    },
    {
      "cell_type": "markdown",
      "metadata": {
        "id": "pXD9QL4GdOp7"
      },
      "source": [
        "If we have a look at class balance we can see we have relatively balanced dataset."
      ]
    },
    {
      "cell_type": "code",
      "metadata": {
        "colab": {
          "base_uri": "https://localhost:8080/",
          "height": 262
        },
        "id": "ZIUU-H1zdKOi",
        "outputId": "122fcbfd-f8de-40ac-8898-e7f778d902d5"
      },
      "source": [
        "chimp_data[\"class\"].value_counts().sort_index().plot.bar();"
      ],
      "execution_count": 38,
      "outputs": [
        {
          "output_type": "display_data",
          "data": {
            "image/png": "[encoded data removed]",
            "text/plain": [
              "<Figure size 432x288 with 1 Axes>"
            ]
          },
          "metadata": {
            "needs_background": "light"
          }
        }
      ]
    },
    {
      "cell_type": "code",
      "metadata": {
        "id": "2EQoUrAidbVM"
      },
      "source": [
        "# Train test split\n",
        "\n",
        "from sklearn.model_selection import train_test_split\n",
        "X_train, X_test, y_train, y_test = train_test_split(X, y_data, test_size = 0.20, random_state = 42)"
      ],
      "execution_count": 39,
      "outputs": []
    },
    {
      "cell_type": "code",
      "metadata": {
        "colab": {
          "base_uri": "https://localhost:8080/"
        },
        "id": "D0KRWYuJd4zE",
        "outputId": "e6ea9d2b-c1cf-4de3-f302-005310993cb0"
      },
      "source": [
        "# Lets see the shape of the train and test datasets\n",
        "print(X_train.shape)\n",
        "print(X_test.shape)"
      ],
      "execution_count": 40,
      "outputs": [
        {
          "output_type": "stream",
          "name": "stdout",
          "text": [
            "(1345, 229684)\n",
            "(337, 229684)\n"
          ]
        }
      ]
    },
    {
      "cell_type": "markdown",
      "metadata": {
        "id": "kXiTEUGneMlM"
      },
      "source": [
        "A multinomial naive Bayes classifier will be created. I previously did some parameter tuning and found the ngram size of 4 (reflected in the Countvectorizer() instance) and a model alpha of 0.1 did the best."
      ]
    },
    {
      "cell_type": "code",
      "metadata": {
        "colab": {
          "base_uri": "https://localhost:8080/"
        },
        "id": "r5EV9Ca1eE5z",
        "outputId": "784614cc-ec09-4f67-ab25-4f006a7deddd"
      },
      "source": [
        "from sklearn.naive_bayes import  MultinomialNB\n",
        "classifier = MultinomialNB(alpha = 0.1)\n",
        "classifier.fit(X_train, y_train)"
      ],
      "execution_count": 41,
      "outputs": [
        {
          "output_type": "execute_result",
          "data": {
            "text/plain": [
              "MultinomialNB(alpha=0.1, class_prior=None, fit_prior=True)"
            ]
          },
          "metadata": {},
          "execution_count": 41
        }
      ]
    },
    {
      "cell_type": "code",
      "metadata": {
        "id": "mh-uzMOpefqy"
      },
      "source": [
        "# Prediction\n",
        "\n",
        "y_pred = classifier.predict(X_test)"
      ],
      "execution_count": 42,
      "outputs": []
    },
    {
      "cell_type": "markdown",
      "metadata": {
        "id": "__r3Gewmeth6"
      },
      "source": [
        "Okay, so let's look at some model performce metrics like the confusion matrix, accuracy, precision, recall and f1 score. We are getting really good results on our unseen data, so it looks like our model did not overfit to the training data."
      ]
    },
    {
      "cell_type": "code",
      "metadata": {
        "colab": {
          "base_uri": "https://localhost:8080/"
        },
        "id": "G0v2PzyPeleq",
        "outputId": "104cca2e-40e4-4f23-e6e2-f008062c1781"
      },
      "source": [
        "# Validation\n",
        "\n",
        "from sklearn.metrics import accuracy_score, f1_score, precision_score, recall_score\n",
        "print(\"Confusion Matrix\\n\")\n",
        "print(pd.crosstab(pd.Series(y_test, name = \"Actual\"), pd.Series(y_pred, name = \"Predicted\")))\n",
        "def get_metrics(y_test, y_predicted):\n",
        "  accuracy = accuracy_score(y_test, y_predicted)\n",
        "  precision = precision_score(y_test, y_predicted, average = \"weighted\")\n",
        "  recall = recall_score(y_test, y_predicted, average = \"weighted\")\n",
        "  f1 = f1_score(y_test, y_predicted, average = \"weighted\")\n",
        "\n",
        "  return accuracy, precision, recall, f1\n",
        "\n",
        "accuracy, precision, recall, f1 = get_metrics(y_test, y_pred)\n",
        "print(\"accuracy = %.3f \\nprecision = %.3f \\nrecall = %.3f \\nf1 = %.3f\" % (accuracy, precision, recall, f1))"
      ],
      "execution_count": 43,
      "outputs": [
        {
          "output_type": "stream",
          "name": "stdout",
          "text": [
            "Confusion Matrix\n",
            "\n",
            "Predicted   0   1   2   3   4   5    6\n",
            "Actual                                \n",
            "0          27   0   0   0   0   0    1\n",
            "1           0  38   0   0   0   0    1\n",
            "2           0   0  25   0   0   0    2\n",
            "3           0   0   0  41   0   0    2\n",
            "4           2   1   0   3  40   0    6\n",
            "5           3   0   0   0   3  19    4\n",
            "6           0   0   0   1   0   0  118\n",
            "accuracy = 0.914 \n",
            "precision = 0.920 \n",
            "recall = 0.914 \n",
            "f1 = 0.911\n"
          ]
        }
      ]
    },
    {
      "cell_type": "markdown",
      "metadata": {
        "id": "_7f0dUAul_U7"
      },
      "source": [
        "We can conclude that the model performed really well from the above metrics scores."
      ]
    }
  ]
}