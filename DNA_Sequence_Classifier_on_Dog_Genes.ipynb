{
  "nbformat": 4,
  "nbformat_minor": 0,
  "metadata": {
    "colab": {
      "name": "DNA Sequence Classifier on Dog Genes",
      "provenance": [],
      "mount_file_id": "1ODoYIjiDjRHdPwyn18mKNFVk1LwsmWo8",
      "authorship_tag": "ABX9TyOCNjL/ASfzRyd4/mXS3wLP",
      "include_colab_link": true
    },
    "kernelspec": {
      "name": "python3",
      "display_name": "Python 3"
    },
    "language_info": {
      "name": "python"
    }
  },
  "cells": [
    {
      "cell_type": "markdown",
      "metadata": {
        "id": "view-in-github",
        "colab_type": "text"
      },
      "source": [
        "<a href=\"https://colab.research.google.com/github/swarnava-96/DNA-Sequence-Cassifier-using-NLP/blob/main/DNA_Sequence_Classifier_on_Dog_Genes.ipynb\" target=\"_parent\"><img src=\"https://colab.research.google.com/assets/colab-badge.svg\" alt=\"Open In Colab\"/></a>"
      ]
    },
    {
      "cell_type": "markdown",
      "metadata": {
        "id": "1lb867_jVONO"
      },
      "source": [
        "# **DNA Sequence Classifier using NLP**\n",
        "In this project, we will apply a Machine Learning Classification model on dog gene sequences dataset that can predict genes function based on DNA sequence (coding sequence) alone.\n",
        "\n",
        "### Importing the necessary libraries"
      ]
    },
    {
      "cell_type": "code",
      "metadata": {
        "colab": {
          "base_uri": "https://localhost:8080/"
        },
        "id": "QC1DWIucVOl9",
        "outputId": "c95163da-e5bc-4bf7-d8d4-7059d9dd7b03"
      },
      "source": [
        "cd \"/content/drive/MyDrive/Datasets\""
      ],
      "execution_count": 1,
      "outputs": [
        {
          "output_type": "stream",
          "name": "stdout",
          "text": [
            "/content/drive/MyDrive/Datasets\n"
          ]
        }
      ]
    },
    {
      "cell_type": "code",
      "metadata": {
        "id": "flKezDRFVPuB"
      },
      "source": [
        "import numpy as np\n",
        "import pandas as pd\n",
        "import matplotlib.pyplot as plt\n",
        "%matplotlib inline"
      ],
      "execution_count": 2,
      "outputs": []
    },
    {
      "cell_type": "markdown",
      "metadata": {
        "id": "BXuvc8mlYd8P"
      },
      "source": [
        "### Loading the Data"
      ]
    },
    {
      "cell_type": "code",
      "metadata": {
        "colab": {
          "base_uri": "https://localhost:8080/",
          "height": 202
        },
        "id": "xU7tEjKJWW0R",
        "outputId": "73166ca9-c4ee-4bba-90c2-7cac3d5cfdc1"
      },
      "source": [
        "dog_data = pd.read_table(\"dog_data.txt\")\n",
        "dog_data.head()"
      ],
      "execution_count": 44,
      "outputs": [
        {
          "output_type": "execute_result",
          "data": {
            "text/html": [
              "<div>\n",
              "<style scoped>\n",
              "    .dataframe tbody tr th:only-of-type {\n",
              "        vertical-align: middle;\n",
              "    }\n",
              "\n",
              "    .dataframe tbody tr th {\n",
              "        vertical-align: top;\n",
              "    }\n",
              "\n",
              "    .dataframe thead th {\n",
              "        text-align: right;\n",
              "    }\n",
              "</style>\n",
              "<table border=\"1\" class=\"dataframe\">\n",
              "  <thead>\n",
              "    <tr style=\"text-align: right;\">\n",
              "      <th></th>\n",
              "      <th>sequence</th>\n",
              "      <th>class</th>\n",
              "    </tr>\n",
              "  </thead>\n",
              "  <tbody>\n",
              "    <tr>\n",
              "      <th>0</th>\n",
              "      <td>ATGCCACAGCTAGATACATCCACCTGATTTATTATAATCTTTTCAA...</td>\n",
              "      <td>4</td>\n",
              "    </tr>\n",
              "    <tr>\n",
              "      <th>1</th>\n",
              "      <td>ATGAACGAAAATCTATTCGCTTCTTTCGCTGCCCCCTCAATAATAG...</td>\n",
              "      <td>4</td>\n",
              "    </tr>\n",
              "    <tr>\n",
              "      <th>2</th>\n",
              "      <td>ATGGAAACACCCTTCTACGGCGATGAGGCGCTGAGCGGCCTGGGCG...</td>\n",
              "      <td>6</td>\n",
              "    </tr>\n",
              "    <tr>\n",
              "      <th>3</th>\n",
              "      <td>ATGTGCACTAAAATGGAACAGCCCTTCTACCACGACGACTCATACG...</td>\n",
              "      <td>6</td>\n",
              "    </tr>\n",
              "    <tr>\n",
              "      <th>4</th>\n",
              "      <td>ATGAGCCGGCAGCTAAACAGAAGCCAGAACTGCTCCTTCAGTGACG...</td>\n",
              "      <td>0</td>\n",
              "    </tr>\n",
              "  </tbody>\n",
              "</table>\n",
              "</div>"
            ],
            "text/plain": [
              "                                            sequence  class\n",
              "0  ATGCCACAGCTAGATACATCCACCTGATTTATTATAATCTTTTCAA...      4\n",
              "1  ATGAACGAAAATCTATTCGCTTCTTTCGCTGCCCCCTCAATAATAG...      4\n",
              "2  ATGGAAACACCCTTCTACGGCGATGAGGCGCTGAGCGGCCTGGGCG...      6\n",
              "3  ATGTGCACTAAAATGGAACAGCCCTTCTACCACGACGACTCATACG...      6\n",
              "4  ATGAGCCGGCAGCTAAACAGAAGCCAGAACTGCTCCTTCAGTGACG...      0"
            ]
          },
          "metadata": {},
          "execution_count": 44
        }
      ]
    },
    {
      "cell_type": "code",
      "metadata": {
        "colab": {
          "base_uri": "https://localhost:8080/"
        },
        "id": "sc7PsQs8Ysmu",
        "outputId": "7fb5d927-b8a8-469b-cdcf-04248ba18c7d"
      },
      "source": [
        "# Lets see the shape of the data\n",
        "\n",
        "dog_data.shape"
      ],
      "execution_count": 45,
      "outputs": [
        {
          "output_type": "execute_result",
          "data": {
            "text/plain": [
              "(820, 2)"
            ]
          },
          "metadata": {},
          "execution_count": 45
        }
      ]
    },
    {
      "cell_type": "markdown",
      "metadata": {
        "id": "xQHxunvHYBMY"
      },
      "source": [
        "We have some data for dog DNA sequence coding regions and a class label. \n",
        "Let's define a function to collect all possible overlapping k-mers of a specified length from any sequence string. We will basically apply the k-mers to the complete sequences."
      ]
    },
    {
      "cell_type": "code",
      "metadata": {
        "id": "FWEg-DXJY1zJ"
      },
      "source": [
        "# Lets create a function to convert sequence strings into k-mer words, default size = 6 (Hexamer words)\n",
        "\n",
        "def getKmers(sequence, size = 6):\n",
        "  return [sequence[x : x + size].lower() for x in range(len(sequence) - size + 1)]"
      ],
      "execution_count": 46,
      "outputs": []
    },
    {
      "cell_type": "markdown",
      "metadata": {
        "id": "gTfMgC8EaRyp"
      },
      "source": [
        "Now we can convert our training data sequences into short overlapping k-mers of legth 6."
      ]
    },
    {
      "cell_type": "code",
      "metadata": {
        "id": "1tQCvZkzaLG9"
      },
      "source": [
        "dog_data[\"words\"] = dog_data.apply(lambda x : getKmers(x[\"sequence\"]), axis = 1)\n",
        "dog_data  = dog_data.drop(\"sequence\", axis = 1)"
      ],
      "execution_count": 47,
      "outputs": []
    },
    {
      "cell_type": "markdown",
      "metadata": {
        "id": "qP__2iu4bFSs"
      },
      "source": [
        "Now, our coding sequence data is changed to lowercase, split up into all possible k-mer words of length 6 and ready for the next step. Let's take a look."
      ]
    },
    {
      "cell_type": "code",
      "metadata": {
        "colab": {
          "base_uri": "https://localhost:8080/",
          "height": 202
        },
        "id": "wlGPtA1ba0N6",
        "outputId": "70b91497-b9bc-4d94-fd01-7a48488ab14a"
      },
      "source": [
        "dog_data.head()"
      ],
      "execution_count": 48,
      "outputs": [
        {
          "output_type": "execute_result",
          "data": {
            "text/html": [
              "<div>\n",
              "<style scoped>\n",
              "    .dataframe tbody tr th:only-of-type {\n",
              "        vertical-align: middle;\n",
              "    }\n",
              "\n",
              "    .dataframe tbody tr th {\n",
              "        vertical-align: top;\n",
              "    }\n",
              "\n",
              "    .dataframe thead th {\n",
              "        text-align: right;\n",
              "    }\n",
              "</style>\n",
              "<table border=\"1\" class=\"dataframe\">\n",
              "  <thead>\n",
              "    <tr style=\"text-align: right;\">\n",
              "      <th></th>\n",
              "      <th>class</th>\n",
              "      <th>words</th>\n",
              "    </tr>\n",
              "  </thead>\n",
              "  <tbody>\n",
              "    <tr>\n",
              "      <th>0</th>\n",
              "      <td>4</td>\n",
              "      <td>[atgcca, tgccac, gccaca, ccacag, cacagc, acagc...</td>\n",
              "    </tr>\n",
              "    <tr>\n",
              "      <th>1</th>\n",
              "      <td>4</td>\n",
              "      <td>[atgaac, tgaacg, gaacga, aacgaa, acgaaa, cgaaa...</td>\n",
              "    </tr>\n",
              "    <tr>\n",
              "      <th>2</th>\n",
              "      <td>6</td>\n",
              "      <td>[atggaa, tggaaa, ggaaac, gaaaca, aaacac, aacac...</td>\n",
              "    </tr>\n",
              "    <tr>\n",
              "      <th>3</th>\n",
              "      <td>6</td>\n",
              "      <td>[atgtgc, tgtgca, gtgcac, tgcact, gcacta, cacta...</td>\n",
              "    </tr>\n",
              "    <tr>\n",
              "      <th>4</th>\n",
              "      <td>0</td>\n",
              "      <td>[atgagc, tgagcc, gagccg, agccgg, gccggc, ccggc...</td>\n",
              "    </tr>\n",
              "  </tbody>\n",
              "</table>\n",
              "</div>"
            ],
            "text/plain": [
              "   class                                              words\n",
              "0      4  [atgcca, tgccac, gccaca, ccacag, cacagc, acagc...\n",
              "1      4  [atgaac, tgaacg, gaacga, aacgaa, acgaaa, cgaaa...\n",
              "2      6  [atggaa, tggaaa, ggaaac, gaaaca, aaacac, aacac...\n",
              "3      6  [atgtgc, tgtgca, gtgcac, tgcact, gcacta, cacta...\n",
              "4      0  [atgagc, tgagcc, gagccg, agccgg, gccggc, ccggc..."
            ]
          },
          "metadata": {},
          "execution_count": 48
        }
      ]
    },
    {
      "cell_type": "markdown",
      "metadata": {
        "id": "IqjKIWq_bRrF"
      },
      "source": [
        "Since we are going to use scikit-learn natural language processing tools to do the k-mer counting, we need to now convert the lists of k-mers for each gene into string sentences of words that the count vectorizer can use. We can also make a y variable to hold the class labels."
      ]
    },
    {
      "cell_type": "code",
      "metadata": {
        "id": "l0sk-8nTbJOZ"
      },
      "source": [
        "dog_texts = list(dog_data[\"words\"])\n",
        "for item in range(len(dog_texts)):\n",
        "  dog_texts[item] = \" \".join(dog_texts[item])\n",
        "\n",
        "# Lets create our target feature\n",
        "y_data = dog_data.iloc[:, 0].values"
      ],
      "execution_count": 49,
      "outputs": []
    },
    {
      "cell_type": "code",
      "metadata": {
        "colab": {
          "base_uri": "https://localhost:8080/"
        },
        "id": "h8OIXL37b-y6",
        "outputId": "55a81ce6-eb6b-4a36-9f3b-7122839f68e2"
      },
      "source": [
        "# Lets check\n",
        "\n",
        "print(dog_texts[2])"
      ],
      "execution_count": 50,
      "outputs": [
        {
          "output_type": "stream",
          "name": "stdout",
          "text": [
            "atggaa tggaaa ggaaac gaaaca aaacac aacacc acaccc caccct accctt cccttc ccttct cttcta ttctac tctacg ctacgg tacggc acggcg cggcga ggcgat gcgatg cgatga gatgag atgagg tgaggc gaggcg aggcgc ggcgct gcgctg cgctga gctgag ctgagc tgagcg gagcgg agcggc gcggcc cggcct ggcctg gcctgg cctggg ctgggc tgggcg gggcgg ggcggc gcggcg cggcgg ggcggc gcggcg cggcgt ggcgtc gcgtca cgtcag gtcagt tcagta cagtag agtagc gtagca tagcag agcagt gcagtg cagtgg agtggc gtggcg tggcgg ggcggc gcggcg cggcgg ggcggt gcggtg cggtgg ggtggt gtggta tggtag ggtagc gtagct tagctt agcttc gcttcg cttcgc ttcgcg tcgcgt cgcgtc gcgtcc cgtccc gtcccc tccccg ccccgg cccggg ccgggt cgggtc gggtcg ggtcgc gtcgcc tcgcct cgcctg gcctgt cctgtt ctgttt tgtttc gtttcc tttccc ttcccg tcccgg cccggg ccgggg cggggc ggggcg gggcgc ggcgcc gcgccc cgcccc gccccc cccccg ccccga cccgac ccgacg cgacgg gacggc acggcg cggcgg ggcggc gcggcg cggcga ggcgac gcgact cgactg gactgg actggc ctggca tggcag ggcagc gcagca cagcat agcatg gcatga catgat atgatg tgatga gatgaa atgaag tgaaga gaagaa aagaaa agaaag gaaaga aaagac aagacg agacgc gacgcg acgcgc cgcgct gcgctg cgctga gctgac ctgacg tgacgc gacgct acgctg cgctga gctgag ctgagc tgagcc gagcct agcctg gcctga cctgag ctgagc tgagcg gagcga agcgag gcgagc cgagca gagcag agcagg gcaggt caggtg aggtgg ggtggc gtggcg tggcgg ggcggc gcggcg cggcgg ggcggc gcggcg cggcgc ggcgct gcgctc cgctca gctcaa ctcaag tcaagc caagcc aagccc agcccg gcccgc cccgcg ccgcgg cgcggc gcggcc cggccg ggccgc gccgcg ccgcgc cgcgcc gcgccg cgccgc gccgcc ccgccc cgcccc gccccc cccccg ccccgg cccggc ccggcc cggccc ggcccc gccccc cccccc ccccct cccctg ccctgc cctgcg ctgcgc tgcgca gcgcac cgcacc gcaccg caccga accgac ccgacg cgacgg gacggc acggcg cggcgc ggcgcc gcgccc cgcccc gcccca ccccag cccagg ccaggc caggca aggcac ggcacg gcacgg cacggc acggcg cggcgc ggcgcc gcgccc cgcccc gccccc cccccc cccccg ccccga cccgac ccgacg cgacgg gacggc acggcc cggcct ggccta gcctac cctact ctactc tactct actctc ctctcc tctcct ctcctc tcctcg cctcgc ctcgcc tcgccc cgcccg gcccga cccgac ccgacc cgacct gacctg acctgg cctggg ctgggg tggggc ggggct gggctg ggctgc gctgct ctgctc tgctca gctcaa ctcaag tcaagc caagct aagctc agctcg gctcgc ctcgcc tcgcct cgcctc gcctcg cctcgc ctcgcc tcgccc cgcccg gcccga cccgag ccgagc cgagct gagctc agctcg gctcga ctcgag tcgagc cgagcg gagcgc agcgcc gcgcct cgccta gcctaa cctaat ctaatc taatca aatcat atcatc tcatcc catcca atccag tccagt ccagtc cagtcc agtcca gtccaa tccaac ccaacg caacgg aacggg acgggc cgggct gggctg ggctgg gctggt ctggtc tggtca ggtcac gtcacc tcacca caccac accacc ccacca caccac accacg ccacgc cacgcc acgccg cgccga gccgac ccgacg cgacga gacgag acgagc cgagca gagcac agcact gcactc cactca actcag ctcagt tcagtt cagttc agttcc gttcct ttcctc tcctct cctcta ctctac tctacc ctaccc tacccc acccca ccccaa cccaag ccaagg caaggt aaggtg aggtgg ggtggc gtggcg tggcgg ggcggc gcggcc cggcca ggccag gccagc ccagcg cagcga agcgag gcgagg cgagga gaggag aggagc ggagca gagcag agcagg gcagga caggag aggagt ggagtt gagttt agtttg gtttgc tttgcc ttgccg tgccga gccgag ccgagg cgaggg gagggc agggct gggctt ggcttc gcttcg cttcgt ttcgtc tcgtca cgtcaa gtcaag tcaagg caaggc aaggcc aggccc ggccct gccctg ccctgg cctgga ctggaa tggaag ggaaga gaagac aagact agactt gacttg acttgc cttgca ttgcac tgcaca gcacaa cacaag acaagc caagca aagcag agcaga gcagaa cagaac agaacc gaacca aaccag accagc ccagct cagctg agctgg gctggg ctgggc tgggca gggcac ggcacg gcacgg cacggg acgggc cgggcg gggcgc ggcgcg gcgcgg cgcggc gcggcc cggcct ggcctc gcctcg cctcgg ctcggc tcggca cggcag ggcagc gcagcc cagccg agccgc gccgcg ccgcgg cgcggc gcggcc cggccg ggccgc gccgcc ccgccg cgccgg gccgga ccggag cggagg ggagga gaggac aggacc ggaccc gaccct accctc ccctcg cctcgg ctcggg tcgggc cgggca gggcac ggcacg gcacgg cacggc acggct cggctg ggctgc gctgcg ctgcgg tgcggg gcgggc cgggcg gggcgc ggcgcc gcgccg cgccgc gccgcg ccgcgc cgcgcc gcgcct cgcctc gcctcc cctcct ctcctg tcctgg cctggc ctggcg tggcga ggcgaa gcgaac cgaact gaactg aactgg actggc ctggcc tggccc ggcccc gcccca ccccag cccagc ccagcg cagcgg agcggc gcggca cggcag ggcagc gcagcc cagcca agccac gccacg ccacgc cacgcc acgccc cgcccg gcccga cccgag ccgagg cgaggc gaggcg aggcgc ggcgcc gcgccc cgcccg gcccgt cccgtc ccgtct cgtcta gtctac tctacg ctacgc tacgcg acgcga cgcgaa gcgaac cgaacc gaacct aacctg acctga cctgag ctgagc tgagca gagcag agcagc gcagct cagcta agctac gctacg ctacgc tacgcg acgcgg cgcggg gcgggc cgggcg gggcgg ggcggc gcggca cggcac ggcacc gcaccg caccgg accggg ccgggg cggggg gggggt ggggtt gggttc ggttcg gttcgg ttcggg tcgggg cggggg gggggg gggggt ggggtg gggtgc ggtgct gtgctg tgctgc gctgcg ctgcga tgcgac gcgacg cgacgg gacggt acggtc cggtcg ggtcgc gtcgcc tcgcct cgcctt gccttc ccttcg cttcgc ttcgcc tcgccg cgccgc gccgcg ccgcgg cgcgga gcggag cggagc ggagcc gagcct agcctg gcctgt cctgtg ctgtgc tgtgcc gtgccc tgccct gccctt cccttc ccttcc cttccc ttccct tccctc ccctcc cctccg ctccgc tccgcc ccgcca cgccac gccacc ccaccg caccgc accgcc ccgccc cgcccc gccccc ccccca ccccag cccagg ccaggc caggcg aggcgc ggcgcg gcgcgc cgcgct gcgctg cgctgg gctggg ctgggg tggggc ggggcc gggccg ggccgc gccgcc ccgccc cgcccc gccccg ccccgc cccgcc ccgcct cgcctg gcctga cctgac ctgacc tgaccg gaccgc accgcg ccgcgc cgcgct gcgctc cgctca gctcaa ctcaag tcaagg caagga aaggat aggatg ggatga gatgag atgagc tgagcc gagccg agccgc gccgca ccgcag cgcaga gcagac cagacg agacgg gacggt acggtg cggtgc ggtgcc gtgccc tgcccg gcccga cccgac ccgacg cgacgt gacgtg acgtgc cgtgcc gtgcca tgccaa gccaag ccaagc caagct aagctt agcttc gcttcg cttcgg ttcggc tcggcg cggcga ggcgag gcgaga cgagag gagagc agagcc gagccc agcccg gcccgc cccgcc ccgccg cgccgt gccgtt ccgttg cgttgt gttgtc ttgtcg tgtcgc gtcgcc tcgccc cgccca gcccat cccatc ccatcg catcga atcgac tcgaca cgacat gacatg acatgg catgga atggac tggaca ggacac gacacg acacgc cacgca acgcag cgcagg gcagga caggag aggagc ggagcg gagcgc agcgca gcgcat cgcatt gcatta cattaa attaag ttaagg taaggc aaggcg aggcgg ggcgga gcggag cggagc ggagcg gagcgc agcgca gcgcaa cgcaag gcaagc caagcg aagcgg agcggc gcggct cggctg ggctgc gctgcg ctgcgc tgcgca gcgcaa cgcaac gcaacc caaccg aaccgc accgca ccgcat cgcatc gcatcg catcgc atcgct tcgctg cgctgc gctgcc ctgcct tgcctc gcctct cctcta ctctaa tctaag ctaagt taagtg aagtgc agtgcc gtgccg tgccgc gccgca ccgcaa cgcaag gcaagc caagcg aagcgc agcgca gcgcaa cgcaag gcaagc caagct aagctg agctgg gctgga ctggag tggagc ggagcg gagcgc agcgca gcgcat cgcatc gcatct catctc atctcg tctcgc ctcgcg tcgcgc cgcgcc gcgcct cgcctc gcctcg cctcga ctcgag tcgagg cgagga gaggag aggaga ggagaa gagaaa agaaag gaaagt aaagtg aagtga agtgaa gtgaag tgaaga gaagac aagacg agacgc gacgct acgctc cgctca gctcaa ctcaag tcaaga caagag aagagc agagcc gagcca agccag gccaga ccagaa cagaac agaaca gaacac aacacg acacgg cacgga acggag cggagc ggagct gagctg agctgg gctggc ctggcg tggcgt ggcgtc gcgtcc cgtcca gtccac tccaca ccacag cacagc acagcg cagcga agcgag gcgagc cgagcc gagcct agcctg gcctgc cctgct ctgctg tgctgc gctgcg ctgcgc tgcgcg gcgcga cgcgag gcgagc cgagca gagcag agcagg gcaggt caggtg aggtgg ggtggc gtggcg tggcgc ggcgca gcgcag cgcagc gcagct cagctc agctca gctcaa ctcaag tcaagc caagca aagcag agcaga gcagaa cagaag agaagg gaaggt aaggtc aggtcc ggtcct gtcctc tcctca cctcag ctcagc tcagcc cagcca agccac gccacg ccacgt cacgtc acgtca cgtcaa gtcaac tcaaca caacag aacagc acagcg cagcgg agcggc gcggct cggctg ggctgc gctgcc ctgcca tgccag gccagc ccagct cagctg agctgc gctgct ctgctg tgctgc gctgcc ctgccc tgcccc gcccca ccccag cccagc ccagca cagcac agcacc gcacca caccag accagg ccaggt caggtg aggtgt ggtgtc gtgtcc tgtccg gtccgc tccgcg ccgcgt cgcgta gcgtac cgtact gtactg tactga\n"
          ]
        }
      ]
    },
    {
      "cell_type": "code",
      "metadata": {
        "colab": {
          "base_uri": "https://localhost:8080/"
        },
        "id": "Ga6w0-EOcCRv",
        "outputId": "754208b9-03c7-4bba-ac24-5d563b9c53b7"
      },
      "source": [
        "y_data"
      ],
      "execution_count": 51,
      "outputs": [
        {
          "output_type": "execute_result",
          "data": {
            "text/plain": [
              "array([4, 4, 6, 6, 0, 6, 0, 0, 0, 0, 0, 6, 6, 0, 0, 0, 6, 0, 0, 0, 0, 0,\n",
              "       6, 0, 0, 0, 6, 0, 0, 6, 0, 0, 0, 0, 0, 0, 3, 0, 6, 0, 6, 0, 6, 0,\n",
              "       6, 0, 0, 3, 3, 6, 6, 6, 6, 4, 0, 0, 4, 2, 0, 0, 0, 0, 6, 0, 6, 0,\n",
              "       0, 5, 5, 6, 4, 6, 0, 0, 3, 6, 3, 6, 6, 6, 6, 6, 4, 6, 4, 1, 4, 0,\n",
              "       0, 0, 6, 4, 4, 6, 6, 6, 6, 6, 4, 6, 6, 3, 3, 3, 3, 0, 6, 3, 3, 6,\n",
              "       4, 4, 5, 6, 6, 1, 5, 2, 2, 1, 4, 2, 6, 3, 3, 6, 6, 6, 3, 3, 6, 6,\n",
              "       6, 3, 6, 6, 2, 0, 0, 6, 6, 3, 3, 3, 0, 0, 4, 6, 6, 5, 1, 1, 0, 0,\n",
              "       0, 4, 0, 4, 0, 0, 3, 4, 6, 0, 6, 6, 3, 4, 0, 6, 6, 1, 2, 2, 2, 3,\n",
              "       6, 2, 2, 2, 6, 0, 0, 6, 6, 0, 0, 1, 6, 5, 5, 6, 0, 6, 0, 0, 4, 0,\n",
              "       0, 3, 4, 0, 0, 6, 6, 5, 5, 3, 4, 1, 0, 6, 5, 6, 6, 4, 4, 2, 2, 2,\n",
              "       4, 6, 4, 4, 2, 1, 3, 6, 0, 6, 2, 3, 0, 0, 6, 0, 6, 4, 3, 1, 1, 4,\n",
              "       6, 4, 4, 6, 3, 3, 2, 2, 1, 1, 3, 3, 4, 3, 0, 3, 5, 5, 5, 5, 5, 5,\n",
              "       5, 2, 2, 4, 4, 6, 4, 4, 6, 6, 6, 0, 3, 3, 4, 3, 0, 0, 6, 0, 0, 6,\n",
              "       6, 1, 5, 5, 0, 0, 6, 6, 1, 1, 1, 4, 2, 2, 3, 4, 3, 4, 4, 1, 4, 4,\n",
              "       3, 1, 6, 1, 2, 2, 2, 5, 0, 0, 6, 6, 6, 6, 4, 3, 3, 4, 5, 5, 6, 6,\n",
              "       0, 4, 1, 2, 4, 4, 3, 4, 4, 0, 0, 6, 0, 5, 4, 4, 4, 4, 0, 5, 3, 3,\n",
              "       6, 6, 6, 6, 6, 3, 4, 4, 2, 2, 3, 6, 0, 0, 2, 6, 4, 4, 6, 2, 4, 4,\n",
              "       4, 0, 6, 6, 6, 0, 6, 3, 2, 2, 4, 0, 6, 4, 6, 4, 4, 4, 6, 6, 6, 4,\n",
              "       6, 6, 6, 2, 6, 6, 6, 6, 6, 5, 6, 0, 0, 0, 5, 5, 5, 4, 6, 6, 6, 6,\n",
              "       1, 1, 6, 6, 1, 4, 1, 1, 3, 6, 6, 1, 3, 2, 2, 0, 0, 4, 3, 0, 0, 5,\n",
              "       0, 1, 1, 1, 3, 0, 2, 2, 2, 3, 1, 6, 3, 3, 6, 6, 6, 6, 5, 5, 4, 6,\n",
              "       4, 6, 6, 6, 2, 5, 5, 0, 0, 3, 6, 5, 5, 1, 1, 1, 6, 6, 6, 6, 1, 1,\n",
              "       2, 6, 6, 4, 6, 1, 3, 3, 6, 1, 2, 6, 4, 4, 0, 6, 6, 6, 4, 6, 6, 6,\n",
              "       6, 6, 2, 2, 6, 6, 6, 4, 4, 1, 6, 6, 6, 2, 2, 1, 1, 3, 6, 6, 2, 2,\n",
              "       2, 2, 0, 6, 4, 1, 1, 6, 1, 3, 3, 4, 4, 4, 4, 6, 6, 1, 1, 1, 5, 1,\n",
              "       1, 2, 2, 6, 6, 4, 4, 0, 6, 3, 5, 4, 1, 1, 1, 3, 5, 6, 6, 6, 6, 5,\n",
              "       5, 6, 3, 6, 6, 4, 6, 4, 0, 1, 0, 3, 4, 6, 4, 4, 4, 6, 1, 1, 5, 5,\n",
              "       2, 6, 6, 6, 4, 0, 3, 6, 3, 6, 6, 3, 3, 6, 6, 6, 4, 6, 6, 6, 4, 4,\n",
              "       4, 3, 3, 6, 3, 4, 6, 6, 4, 1, 5, 5, 6, 0, 0, 4, 6, 6, 0, 0, 0, 6,\n",
              "       4, 4, 6, 6, 6, 3, 4, 4, 4, 6, 3, 2, 5, 6, 1, 3, 0, 2, 6, 4, 4, 5,\n",
              "       0, 4, 4, 4, 4, 6, 5, 6, 6, 6, 6, 2, 2, 1, 1, 4, 4, 3, 5, 5, 1, 5,\n",
              "       4, 0, 6, 0, 1, 1, 6, 6, 6, 6, 6, 1, 3, 4, 3, 5, 1, 0, 6, 6, 6, 4,\n",
              "       1, 5, 5, 4, 0, 0, 6, 2, 6, 3, 6, 6, 0, 3, 3, 3, 3, 4, 6, 6, 0, 4,\n",
              "       4, 4, 6, 1, 3, 0, 4, 4, 1, 1, 1, 6, 4, 2, 2, 3, 1, 4, 4, 1, 1, 6,\n",
              "       6, 5, 5, 6, 3, 4, 6, 6, 6, 6, 3, 6, 6, 6, 2, 2, 6, 6, 3, 2, 4, 4,\n",
              "       4, 6, 6, 4, 6, 6, 6, 6, 6, 3, 3, 5, 2, 2, 3, 0, 0, 0, 6, 6, 3, 3,\n",
              "       3, 5, 6, 6, 1, 1, 0, 6, 6, 6, 4, 5, 6, 3, 0, 4, 6, 4, 4, 6, 6, 3,\n",
              "       5, 5, 6, 6, 1, 6])"
            ]
          },
          "metadata": {},
          "execution_count": 51
        }
      ]
    },
    {
      "cell_type": "markdown",
      "metadata": {
        "id": "D60QnncscSof"
      },
      "source": [
        "Now, we will apply the BAG of WORDS using CountVectorizer. This is equivalent to k-mer counting. The n-gram size of 4 was previously determined by testing"
      ]
    },
    {
      "cell_type": "code",
      "metadata": {
        "id": "BL17sH14cME-"
      },
      "source": [
        "from sklearn.feature_extraction.text import CountVectorizer\n",
        "cv = CountVectorizer(ngram_range = (4,4))\n",
        "X = cv.fit_transform(dog_texts)"
      ],
      "execution_count": 52,
      "outputs": []
    },
    {
      "cell_type": "code",
      "metadata": {
        "colab": {
          "base_uri": "https://localhost:8080/"
        },
        "id": "CJgT7hBddBK3",
        "outputId": "9c4d9e72-8078-4513-f7e0-5c107b26c836"
      },
      "source": [
        "# Lets see the shape of the vector X\n",
        "\n",
        "X.shape"
      ],
      "execution_count": 53,
      "outputs": [
        {
          "output_type": "execute_result",
          "data": {
            "text/plain": [
              "(820, 227149)"
            ]
          },
          "metadata": {},
          "execution_count": 53
        }
      ]
    },
    {
      "cell_type": "markdown",
      "metadata": {
        "id": "pXD9QL4GdOp7"
      },
      "source": [
        "If we have a look at class balance we can see we have relatively balanced dataset."
      ]
    },
    {
      "cell_type": "code",
      "metadata": {
        "colab": {
          "base_uri": "https://localhost:8080/",
          "height": 262
        },
        "id": "ZIUU-H1zdKOi",
        "outputId": "79604681-8514-4738-d67a-ff2003bbc374"
      },
      "source": [
        "dog_data[\"class\"].value_counts().sort_index().plot.bar();"
      ],
      "execution_count": 54,
      "outputs": [
        {
          "output_type": "display_data",
          "data": {
            "image/png": "[encoded data removed]",
            "text/plain": [
              "<Figure size 432x288 with 1 Axes>"
            ]
          },
          "metadata": {
            "needs_background": "light"
          }
        }
      ]
    },
    {
      "cell_type": "code",
      "metadata": {
        "id": "2EQoUrAidbVM"
      },
      "source": [
        "# Train test split\n",
        "\n",
        "from sklearn.model_selection import train_test_split\n",
        "X_train, X_test, y_train, y_test = train_test_split(X, y_data, test_size = 0.20, random_state = 42)"
      ],
      "execution_count": 55,
      "outputs": []
    },
    {
      "cell_type": "code",
      "metadata": {
        "colab": {
          "base_uri": "https://localhost:8080/"
        },
        "id": "D0KRWYuJd4zE",
        "outputId": "c7e65f09-6dde-4d78-f325-328527146f5c"
      },
      "source": [
        "# Lets see the shape of the train and test datasets\n",
        "print(X_train.shape)\n",
        "print(X_test.shape)"
      ],
      "execution_count": 56,
      "outputs": [
        {
          "output_type": "stream",
          "name": "stdout",
          "text": [
            "(656, 227149)\n",
            "(164, 227149)\n"
          ]
        }
      ]
    },
    {
      "cell_type": "markdown",
      "metadata": {
        "id": "kXiTEUGneMlM"
      },
      "source": [
        "A multinomial naive Bayes classifier will be created. I previously did some parameter tuning and found the ngram size of 4 (reflected in the Countvectorizer() instance) and a model alpha of 0.1 did the best."
      ]
    },
    {
      "cell_type": "code",
      "metadata": {
        "colab": {
          "base_uri": "https://localhost:8080/"
        },
        "id": "r5EV9Ca1eE5z",
        "outputId": "805f5511-0f73-4113-f980-e52f03b5cd34"
      },
      "source": [
        "from sklearn.naive_bayes import  MultinomialNB\n",
        "classifier = MultinomialNB(alpha = 0.1)\n",
        "classifier.fit(X_train, y_train)"
      ],
      "execution_count": 57,
      "outputs": [
        {
          "output_type": "execute_result",
          "data": {
            "text/plain": [
              "MultinomialNB(alpha=0.1, class_prior=None, fit_prior=True)"
            ]
          },
          "metadata": {},
          "execution_count": 57
        }
      ]
    },
    {
      "cell_type": "code",
      "metadata": {
        "id": "mh-uzMOpefqy"
      },
      "source": [
        "# Prediction\n",
        "\n",
        "y_pred = classifier.predict(X_test)"
      ],
      "execution_count": 58,
      "outputs": []
    },
    {
      "cell_type": "markdown",
      "metadata": {
        "id": "__r3Gewmeth6"
      },
      "source": [
        "Okay, so let's look at some model performce metrics like the confusion matrix, accuracy, precision, recall and f1 score. We are getting really good results on our unseen data, so it looks like our model did not overfit to the training data."
      ]
    },
    {
      "cell_type": "code",
      "metadata": {
        "colab": {
          "base_uri": "https://localhost:8080/"
        },
        "id": "G0v2PzyPeleq",
        "outputId": "3afe0f52-bc93-4a59-bda1-803e1aa4a191"
      },
      "source": [
        "# Validation\n",
        "\n",
        "from sklearn.metrics import accuracy_score, confusion_matrix, classification_report\n",
        "print(accuracy_score(y_test, y_pred))\n",
        "print(confusion_matrix(y_test, y_pred))\n",
        "print(classification_report(y_test, y_pred))"
      ],
      "execution_count": 59,
      "outputs": [
        {
          "output_type": "stream",
          "name": "stdout",
          "text": [
            "0.6951219512195121\n",
            "[[21  0  0  0  0  0  6]\n",
            " [ 2 12  0  0  0  0  5]\n",
            " [ 1  0 10  0  0  0  3]\n",
            " [ 1  0  0  8  0  0  7]\n",
            " [ 3  0  0  2  7  0 11]\n",
            " [ 2  0  0  1  0  5  5]\n",
            " [ 0  0  0  1  0  0 51]]\n",
            "              precision    recall  f1-score   support\n",
            "\n",
            "           0       0.70      0.78      0.74        27\n",
            "           1       1.00      0.63      0.77        19\n",
            "           2       1.00      0.71      0.83        14\n",
            "           3       0.67      0.50      0.57        16\n",
            "           4       1.00      0.30      0.47        23\n",
            "           5       1.00      0.38      0.56        13\n",
            "           6       0.58      0.98      0.73        52\n",
            "\n",
            "    accuracy                           0.70       164\n",
            "   macro avg       0.85      0.61      0.67       164\n",
            "weighted avg       0.78      0.70      0.68       164\n",
            "\n"
          ]
        }
      ]
    },
    {
      "cell_type": "markdown",
      "metadata": {
        "id": "_7f0dUAul_U7"
      },
      "source": [
        "We can conclude that the model performed okaish from the above metrics scores."
      ]
    }
  ]
}